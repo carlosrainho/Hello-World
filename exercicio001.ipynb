{
  "nbformat": 4,
  "nbformat_minor": 0,
  "metadata": {
    "colab": {
      "name": "exercicio001.ipynb",
      "provenance": [],
      "authorship_tag": "ABX9TyM3qiz0IH2vJrpVZZshlJyp",
      "include_colab_link": true
    },
    "kernelspec": {
      "name": "python3",
      "display_name": "Python 3"
    }
  },
  "cells": [
    {
      "cell_type": "markdown",
      "metadata": {
        "id": "view-in-github",
        "colab_type": "text"
      },
      "source": [
        "<a href=\"https://colab.research.google.com/github/carlosrainho/Hello-World/blob/master/exercicio001.ipynb\" target=\"_parent\"><img src=\"https://colab.research.google.com/assets/colab-badge.svg\" alt=\"Open In Colab\"/></a>"
      ]
    },
    {
      "cell_type": "markdown",
      "source": [
        "Isto são os comentários!..."
      ],
      "metadata": {
        "id": "drECGW-Q7yB2"
      }
    },
    {
      "cell_type": "code",
      "metadata": {
        "id": "D8zJAzeLIS6B",
        "colab": {
          "base_uri": "https://localhost:8080/",
          "height": 34
        },
        "outputId": "dd1197ab-b06b-47f7-95d5-0faa98b34e74"
      },
      "source": [
        "print(\"Olá mundo!\")"
      ],
      "execution_count": null,
      "outputs": [
        {
          "output_type": "stream",
          "text": [
            "Olá mundo!\n"
          ],
          "name": "stdout"
        }
      ]
    }
  ]
}